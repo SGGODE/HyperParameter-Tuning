{
  "nbformat": 4,
  "nbformat_minor": 0,
  "metadata": {
    "colab": {
      "provenance": [],
      "gpuType": "T4"
    },
    "kernelspec": {
      "name": "python3",
      "display_name": "Python 3"
    },
    "language_info": {
      "name": "python"
    },
    "accelerator": "GPU"
  },
  "cells": [
    {
      "cell_type": "code",
      "execution_count": null,
      "metadata": {
        "id": "3-K-S_c3spAL"
      },
      "outputs": [],
      "source": [
        "import numpy as np\n",
        "import tensorflow as tf\n",
        "from tensorflow.keras.datasets import fashion_mnist\n",
        "from tensorflow.keras.models import Sequential\n",
        "from tensorflow.keras.layers import Dense, Dropout, Flatten\n",
        "from tensorflow.keras.optimizers import Adam\n",
        "from tensorflow.keras.callbacks import EarlyStopping\n",
        "from sklearn.model_selection import train_test_split\n",
        "from sklearn.preprocessing import StandardScaler"
      ]
    },
    {
      "cell_type": "code",
      "source": [
        "# Load the Fashion MNIST dataset\n",
        "(X_train, y_train), (X_test, y_test) = fashion_mnist.load_data()"
      ],
      "metadata": {
        "id": "cSmvBQIGs-P0"
      },
      "execution_count": null,
      "outputs": []
    },
    {
      "cell_type": "code",
      "source": [
        "# Normalize pixel values to be between 0 and 1\n",
        "X_train = X_train.astype('float32') / 255.0\n",
        "X_test = X_test.astype('float32') / 255.0"
      ],
      "metadata": {
        "id": "bcq4na8p0-3H"
      },
      "execution_count": null,
      "outputs": []
    },
    {
      "cell_type": "code",
      "source": [
        "# Reshape the data into 1D arrays\n",
        "X_train = X_train.reshape(-1, 28*28)\n",
        "X_test = X_test.reshape(-1, 28*28)\n",
        "\n",
        "# Split the dataset into training and validation sets\n",
        "X_train, X_val, y_train, y_val = train_test_split(X_train, y_train, test_size=0.2, random_state=42)"
      ],
      "metadata": {
        "id": "iHm9F_Rl1HLD"
      },
      "execution_count": null,
      "outputs": []
    },
    {
      "cell_type": "code",
      "source": [
        "# Define your neural network architecture\n",
        "def create_model(hidden_layer_size=64, dropout_rate=0.2, learning_rate=0.001):\n",
        "    model = Sequential([\n",
        "        Dense(hidden_layer_size, activation='relu', input_shape=(X_train.shape[1],)),\n",
        "        Dropout(dropout_rate),\n",
        "        Dense(hidden_layer_size, activation='relu'),\n",
        "        Dropout(dropout_rate),\n",
        "        Dense(10, activation='softmax')  # 10 classes for Fashion MNIST\n",
        "    ])\n",
        "\n",
        "    optimizer = Adam(learning_rate=learning_rate)\n",
        "    model.compile(optimizer=optimizer, loss='sparse_categorical_crossentropy', metrics=['accuracy'])\n",
        "    return model"
      ],
      "metadata": {
        "id": "sckqE6pw1KdK"
      },
      "execution_count": null,
      "outputs": []
    },
    {
      "cell_type": "code",
      "source": [
        "# Define hyperparameters to tune\n",
        "param_grid = {\n",
        "    'hidden_layer_size': [64, 128, 256],\n",
        "    'dropout_rate': [0.2, 0.3, 0.4],\n",
        "    'learning_rate': [0.001, 0.01, 0.1]\n",
        "}"
      ],
      "metadata": {
        "id": "qXHoYpbn1NCx"
      },
      "execution_count": null,
      "outputs": []
    },
    {
      "cell_type": "code",
      "source": [
        "# Perform hyperparameter tuning\n",
        "best_accuracy = 0\n",
        "best_params = {}\n",
        "\n",
        "for hidden_layer_size in param_grid['hidden_layer_size']:\n",
        "    for dropout_rate in param_grid['dropout_rate']:\n",
        "        for learning_rate in param_grid['learning_rate']:\n",
        "            model = create_model(hidden_layer_size=hidden_layer_size, dropout_rate=dropout_rate, learning_rate=learning_rate)\n",
        "            early_stopping = EarlyStopping(monitor='val_loss', patience=5, restore_best_weights=True)\n",
        "            history = model.fit(X_train, y_train, epochs=100, validation_data=(X_val, y_val), callbacks=[early_stopping], verbose=0)\n",
        "            accuracy = model.evaluate(X_test, y_test, verbose=0)[1]\n",
        "            if accuracy > best_accuracy:\n",
        "                best_accuracy = accuracy\n",
        "                best_params = {\n",
        "                    'hidden_layer_size': hidden_layer_size,\n",
        "                    'dropout_rate': dropout_rate,\n",
        "                    'learning_rate': learning_rate\n",
        "                }\n"
      ],
      "metadata": {
        "id": "LZ38U4mf1Xtm"
      },
      "execution_count": null,
      "outputs": []
    },
    {
      "cell_type": "code",
      "source": [
        "print(\"Best Accuracy:\", best_accuracy)\n",
        "print(\"Best Hyperparameters:\", best_params)"
      ],
      "metadata": {
        "colab": {
          "base_uri": "https://localhost:8080/"
        },
        "id": "v4DbAvIN1Zn2",
        "outputId": "6b3d4a25-1595-4084-e991-bf2f9746b400"
      },
      "execution_count": null,
      "outputs": [
        {
          "output_type": "stream",
          "name": "stdout",
          "text": [
            "Best Accuracy: 0.879800021648407\n",
            "Best Hyperparameters: {'hidden_layer_size': 128, 'dropout_rate': 0.2, 'learning_rate': 0.001}\n"
          ]
        }
      ]
    },
    {
      "cell_type": "code",
      "source": [],
      "metadata": {
        "id": "YVmX63cf8ph-"
      },
      "execution_count": null,
      "outputs": []
    }
  ]
}